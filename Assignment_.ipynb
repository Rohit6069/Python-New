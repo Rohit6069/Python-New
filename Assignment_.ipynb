{
  "nbformat": 4,
  "nbformat_minor": 0,
  "metadata": {
    "colab": {
      "name": "Assignment_.ipynb",
      "provenance": [],
      "collapsed_sections": [],
      "authorship_tag": "ABX9TyOEwFR5lC6XmWf9EZaNuqqh",
      "include_colab_link": true
    },
    "kernelspec": {
      "name": "python3",
      "display_name": "Python 3"
    },
    "language_info": {
      "name": "python"
    }
  },
  "cells": [
    {
      "cell_type": "markdown",
      "metadata": {
        "id": "view-in-github",
        "colab_type": "text"
      },
      "source": [
        "<a href=\"https://colab.research.google.com/github/Rohit6069/Python-New/blob/main/Assignment_.ipynb\" target=\"_parent\"><img src=\"https://colab.research.google.com/assets/colab-badge.svg\" alt=\"Open In Colab\"/></a>"
      ]
    },
    {
      "cell_type": "code",
      "execution_count": null,
      "metadata": {
        "id": "1F6nliyr5HNo",
        "colab": {
          "base_uri": "https://localhost:8080/"
        },
        "outputId": "9a4d8749-763d-4e92-ddd5-8a6f708b33c1"
      },
      "outputs": [
        {
          "output_type": "stream",
          "name": "stdout",
          "text": [
            "7\n",
            "7\n"
          ]
        }
      ],
      "source": [
        "#Accept input from user and store it in variable and print the value.\n",
        "\n",
        "num=int(input())\n",
        "a=num\n",
        "print(a)"
      ]
    },
    {
      "cell_type": "code",
      "source": [
        "# Use of print statements and use of (.format )for printing different data types\n",
        "\n",
        "maths=91\n",
        "physics=61\n",
        "hindi=72\n",
        "english=8\n",
        "social=2\n",
        "txt=\"\"\"I'm Rohit , I scored {0}marks in maths,\n",
        "{1}marks in physics, {2}marks in hindi,\n",
        "{3}marks in english, {4}marks in social.\"\"\"\n",
        "print(txt.format(maths,physics,hindi,english,social))\n",
        "#\n",
        "\n",
        "txt=\"\"\"I'm Rohit, I got{}marks in maths,\n",
        "{}marks in physics, {}marks in hindi,\n",
        "{}marks in english, {}marks in\n",
        "social.\"\"\".format(91,61,72,8,2)\n",
        "print(txt)"
      ],
      "metadata": {
        "id": "SGtV3lyW7kXy",
        "colab": {
          "base_uri": "https://localhost:8080/"
        },
        "outputId": "b07d9910-6ee6-4a41-8a97-5b8bfc6a69ca"
      },
      "execution_count": null,
      "outputs": [
        {
          "output_type": "stream",
          "name": "stdout",
          "text": [
            "I'm Rohit , I scored 91marks in maths,\n",
            "61marks in physics, 72marks in hindi,\n",
            "8marks in english, 2marks in social.\n",
            "I'm Rohit, I got91marks in maths,\n",
            "61marks in physics, 72marks in hindi,\n",
            "8marks in english, 2marks in\n",
            "social.\n"
          ]
        }
      ]
    },
    {
      "cell_type": "code",
      "source": [
        "#Take 2 numbers as user input and\n",
        "#add,multiply,divide,subtract,remainder and print the output\n",
        "#(Same operations on floating point input as well)\n",
        "a=int(input())\n",
        "b=int(input())\n",
        "c=a+b\n",
        "print(c)\n",
        "d=a*b\n",
        "print(d)\n",
        "e=a/b\n",
        "print(e)\n",
        "f=a-b\n",
        "print(f)\n",
        "g=a%b\n",
        "print(g)\n",
        "#\n",
        "a=float(input())\n",
        "b=float(input())\n",
        "c=a+b\n",
        "print(c)\n",
        "d=a*b\n",
        "print(d)\n",
        "e=a/b\n",
        "print(e)\n",
        "f=a-b\n",
        "print(f)\n",
        "g=a%b\n",
        "print(g)"
      ],
      "metadata": {
        "colab": {
          "base_uri": "https://localhost:8080/"
        },
        "id": "fIOxPT208lAc",
        "outputId": "8dc15c2e-2faa-4b6e-d7c1-a15a9179d1c4"
      },
      "execution_count": null,
      "outputs": [
        {
          "output_type": "stream",
          "name": "stdout",
          "text": [
            "6\n",
            "8\n",
            "14\n",
            "48\n",
            "0.75\n",
            "-2\n",
            "6\n",
            "3\n",
            "1\n",
            "4.0\n",
            "3.0\n",
            "3.0\n",
            "2.0\n",
            "0.0\n"
          ]
        }
      ]
    },
    {
      "cell_type": "code",
      "source": [
        "#Conversion of one unit to another (such as hours to minutes,miles to km and etc)\n",
        "\n",
        "num=float(input())\n",
        "hours=num\n",
        "minutes=hours*60\n",
        "print(minutes,\"minutes\")\n",
        "num=float(input())\n",
        "miles=num\n",
        "km=miles*1.60934\n",
        "print(km,\"kilometers\")\n",
        "num=float(input())\n",
        "Km=num\n",
        "M=Km*1000\n",
        "print(M,\"meters\")\n",
        "num=float(input())\n",
        "Kg=num\n",
        "G=Kg*1000\n",
        "print(G,\"grams\")\n",
        "num=float(input())\n",
        "L=num\n",
        "ml=L*1000\n",
        "print(ml,\"milli liters\")"
      ],
      "metadata": {
        "colab": {
          "base_uri": "https://localhost:8080/"
        },
        "id": "mDtHm4359NmW",
        "outputId": "94f94118-4597-4b18-d7e1-5d18f450594a"
      },
      "execution_count": null,
      "outputs": [
        {
          "output_type": "stream",
          "name": "stdout",
          "text": [
            "56\n",
            "3360.0 minutes\n",
            "34\n",
            "54.71756 kilometers\n",
            "90\n",
            "90000.0 meters\n",
            "23\n",
            "23000.0 grams\n",
            "6767\n",
            "6767000.0 milli liters\n"
          ]
        }
      ]
    },
    {
      "cell_type": "code",
      "source": [
        "#Usage of mathematical functions in python like (math.ceil,floor,fabs,fmod,trunc,pow, sqrt etc.)\n",
        "import math\n",
        "a=math.ceil(7.9)\n",
        "b=math.floor(5.5)\n",
        "c=math.fabs(-44.5)\n",
        "d=math.fmod(9,42)\n",
        "e=math.trunc(2.6)\n",
        "f=pow(2,2)\n",
        "g=math.sqrt(64)\n",
        "print(a)\n",
        "print(b)\n",
        "print(c)\n",
        "print(d)\n",
        "print(e)\n",
        "print(f)\n",
        "print(g)"
      ],
      "metadata": {
        "colab": {
          "base_uri": "https://localhost:8080/"
        },
        "id": "_FjacEzE9X6d",
        "outputId": "48fac471-e24d-4c2f-fbd5-4569d5884b5c"
      },
      "execution_count": null,
      "outputs": [
        {
          "output_type": "stream",
          "name": "stdout",
          "text": [
            "8\n",
            "5\n",
            "44.5\n",
            "9.0\n",
            "2\n",
            "4\n",
            "8.0\n"
          ]
        }
      ]
    },
    {
      "cell_type": "code",
      "source": [
        "#Building a mathematical calculator that can perform operations according to user input.Use decision making statement\n",
        "\n",
        "\n",
        "a=float(input())\n",
        "b=float(input())\n",
        "c=[\"+\",\"-\",\"*\",\"/\"]\n",
        "d=str(input(c))\n",
        "if \"+\" in d:\n",
        " print(a+b)\n",
        "elif \"-\" in d:\n",
        " print(a-b)\n",
        "elif \"*\" in d:\n",
        " print(a*b)\n",
        "elif \"/\" in d:\n",
        " print(a/b)"
      ],
      "metadata": {
        "colab": {
          "base_uri": "https://localhost:8080/"
        },
        "id": "1y-jnE879zAx",
        "outputId": "0023bdf8-ff04-41d3-b29c-5af001783ba8"
      },
      "execution_count": null,
      "outputs": [
        {
          "output_type": "stream",
          "name": "stdout",
          "text": [
            "4\n",
            "6\n",
            "+,-,*,/+\n",
            "10.0\n"
          ]
        }
      ]
    },
    {
      "cell_type": "code",
      "source": [
        "#Accepting 5 different subject marks from user and displaying the grade of the student\n",
        "\n",
        "m=int(input(\"enter maths marks : \"))\n",
        "p=int(input(\"enter phy marks : \"))\n",
        "c=int(input(\"enter chem marks : \"))\n",
        "s=int(input(\"enter cse marks : \"))\n",
        "b=int(input(\"enter beee marks : \"))\n",
        "total=m+p+c+s+b\n",
        "print(total)\n",
        "avg=total/5\n",
        "print(avg)\n",
        "if avg>=91 and avg<=100:\n",
        " print(\"O\")\n",
        "elif avg>=81 and avg<91:\n",
        " print(\"A+\")\n",
        "elif avg>=71 and avg<81:\n",
        " print(\"A\")\n",
        "elif avg>=61 and avg<71:\n",
        " print(\"B\")\n",
        "elif avg>=51 and avg<61:\n",
        " print(\"C\")\n",
        "elif avg>=41 and avg<51:\n",
        " print(\"D\")\n"
      ],
      "metadata": {
        "colab": {
          "base_uri": "https://localhost:8080/"
        },
        "id": "lmoaGyPTAYQ9",
        "outputId": "4e83349a-a49e-405f-b3cb-10d05ce48300"
      },
      "execution_count": null,
      "outputs": [
        {
          "output_type": "stream",
          "name": "stdout",
          "text": [
            "enter maths marks : 67\n",
            "enter phy marks : 90\n",
            "enter chem marks : 33\n",
            "enter cse marks : 100\n",
            "enter beee marks : 54\n",
            "344\n",
            "68.8\n",
            "B\n"
          ]
        }
      ]
    },
    {
      "cell_type": "code",
      "source": [
        "#Printing all even numbers, odd numbers, count of even numbers, count of odd numbers within a given range.\n",
        "\n",
        "num1=int(input())\n",
        "num2=int(input())\n",
        "print((\"____\"))\n",
        "print(\"Even numbers in given Range\")\n",
        "for x in range(num1,num2+1):\n",
        " if x%2==0:\n",
        "  print(x)\n",
        "count=0\n",
        "for x in range(num1,num2):\n",
        " if x%2:\n",
        "   count+=1\n",
        "print(\"Number of even numbers are \",count)\n",
        "print(\"-----\")\n",
        "num3=int(input())\n",
        "num4=int(input())\n",
        "print(\"Odd numbers in given Range\")\n",
        "print((\"____\"))\n",
        "for x in range(num3,num4+1):\n",
        " if x%2==1:\n",
        "  print(x)\n",
        "count=0\n",
        "for x in range(num1,num2):\n",
        " if not x%2:\n",
        "   count+=1\n",
        "print(\"number of odd numbers are\",count)"
      ],
      "metadata": {
        "colab": {
          "base_uri": "https://localhost:8080/"
        },
        "id": "Omcxl8qkA1Zk",
        "outputId": "5d0150b7-542f-4e3d-edca-45d7a6232156"
      },
      "execution_count": null,
      "outputs": [
        {
          "output_type": "stream",
          "name": "stdout",
          "text": [
            "0\n",
            "60\n",
            "____\n",
            "Even numbers in given Range\n",
            "0\n",
            "2\n",
            "4\n",
            "6\n",
            "8\n",
            "10\n",
            "12\n",
            "14\n",
            "16\n",
            "18\n",
            "20\n",
            "22\n",
            "24\n",
            "26\n",
            "28\n",
            "30\n",
            "32\n",
            "34\n",
            "36\n",
            "38\n",
            "40\n",
            "42\n",
            "44\n",
            "46\n",
            "48\n",
            "50\n",
            "52\n",
            "54\n",
            "56\n",
            "58\n",
            "60\n",
            "Number of even numbers are  30\n",
            "-----\n",
            "78\n",
            "90\n",
            "Odd numbers in given Range\n",
            "____\n",
            "79\n",
            "81\n",
            "83\n",
            "85\n",
            "87\n",
            "89\n",
            "number of odd numbers are 30\n"
          ]
        }
      ]
    },
    {
      "cell_type": "code",
      "source": [
        "#a) Compute the factorial of a given number.\n",
        "num=int(input())\n",
        "f=1\n",
        "for x in range(1,num+1):\n",
        " f=f*x\n",
        "print(\"Factorial of\" ,num ,\"is\", f)\n",
        "#b) Compute GCD of two given numbers.\n",
        "num1=int(input())\n",
        "num2=int(input())\n",
        "def hcf(num1,num2):\n",
        " if num1>num2:\n",
        "  smaller = num2\n",
        " else:\n",
        "  smaller = num1\n",
        " for x in range(1, smaller+1):\n",
        "  if((num1 % x == 0) and (num2 % x == 0)):\n",
        "    hcf = x\n",
        " return hcf\n",
        "print(\"Gcd is\", hcf(num1,num2))\n",
        "# c) Generate Fibonacci series up to N numbers.\n",
        "num=int(input())\n",
        "n1=0\n",
        "n2=1\n",
        "count=0\n",
        "print(\"fibonnaci seriers are\")\n",
        "while count<num:\n",
        " print(n1)\n",
        " nth=n1+n2\n",
        " n1=n2\n",
        " n2=nth\n",
        " count += 1"
      ],
      "metadata": {
        "colab": {
          "base_uri": "https://localhost:8080/"
        },
        "id": "WFvtMwjgBpRm",
        "outputId": "242bd81e-92be-458b-ef3c-406f0203a977"
      },
      "execution_count": null,
      "outputs": [
        {
          "output_type": "stream",
          "name": "stdout",
          "text": [
            "78\n",
            "Factorial of 78 is 11324281178206297831457521158732046228731749579488251990048962825668835325234200766245086213177344000000000000000000\n",
            "9\n",
            "56\n",
            "Gcd is 1\n",
            "34\n",
            "fibonnaci seriers are\n",
            "0\n",
            "1\n",
            "1\n",
            "2\n",
            "3\n",
            "5\n",
            "8\n",
            "13\n",
            "21\n",
            "34\n",
            "55\n",
            "89\n",
            "144\n",
            "233\n",
            "377\n",
            "610\n",
            "987\n",
            "1597\n",
            "2584\n",
            "4181\n",
            "6765\n",
            "10946\n",
            "17711\n",
            "28657\n",
            "46368\n",
            "75025\n",
            "121393\n",
            "196418\n",
            "317811\n",
            "514229\n",
            "832040\n",
            "1346269\n",
            "2178309\n",
            "3524578\n"
          ]
        }
      ]
    },
    {
      "cell_type": "code",
      "source": [
        "#Check whether the given input is\n",
        "#a) palindrome\n",
        "n=int(input())\n",
        "n1=n\n",
        "sum=0\n",
        "while(n1!=0):\n",
        " r=n1%10\n",
        " sum=sum*10+r\n",
        " n1=n1//10\n",
        "if(sum==n):\n",
        " print(\"palindrome\")\n",
        "else:\n",
        " print(\"Not palindrome\") \n",
        "#b) strong\n",
        "n=int(input())\n",
        "sum=0\n",
        "n=n1\n",
        "while(n1):\n",
        " i=1\n",
        " f=1\n",
        " r=n1%10\n",
        " while(i<=r):\n",
        "    f=f*i\n",
        " i=i+1\n",
        " sum=sum+f\n",
        " n1=n1//10\n",
        "if(sum==n):\n",
        " print(\"Strong number\")\n",
        "else:\n",
        " print(\"Not a Strong Number\")\n",
        "#c) perfect\n",
        "n=int(input())\n",
        "sum=0\n",
        "for i in range(1, n):\n",
        " if(n%i==0):\n",
        "  sum=sum+i\n",
        "if (sum==n):\n",
        " print(\"Perfect number\")\n",
        "else:\n",
        " print(\"Not a Perfect number\")"
      ],
      "metadata": {
        "colab": {
          "base_uri": "https://localhost:8080/"
        },
        "id": "GN_Kxnm8CMtV",
        "outputId": "f3760758-f491-40c1-813f-1bdafa06b098"
      },
      "execution_count": null,
      "outputs": [
        {
          "output_type": "stream",
          "name": "stdout",
          "text": [
            "121\n",
            "palindrome\n",
            "121\n",
            "Strong number\n",
            "121\n",
            "Not a Perfect number\n"
          ]
        }
      ]
    },
    {
      "cell_type": "code",
      "source": [
        "#Compute compound interest using loop for a certain principal and interest amount\n",
        "\n",
        "p=int(input())\n",
        "r=float(input())\n",
        "t=int(input())\n",
        "for i in range(t):\n",
        " A = p*(pow((1+r/100),t))\n",
        "print(A)\n",
        "ok=A-p\n",
        "print(ok)"
      ],
      "metadata": {
        "colab": {
          "base_uri": "https://localhost:8080/"
        },
        "id": "65bk0yXkCeoA",
        "outputId": "eca799e2-74c8-496b-b967-0fe2619c1caa"
      },
      "execution_count": null,
      "outputs": [
        {
          "output_type": "stream",
          "name": "stdout",
          "text": [
            "121\n",
            "121\n",
            "121\n",
            "5.67872040158222e+43\n",
            "5.67872040158222e+43\n"
          ]
        }
      ]
    }
  ]
}