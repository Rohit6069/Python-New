{
  "nbformat": 4,
  "nbformat_minor": 0,
  "metadata": {
    "colab": {
      "name": "Assignment 2-Module2.ipynb",
      "provenance": [],
      "collapsed_sections": [],
      "authorship_tag": "ABX9TyO1f8SQcXt40Hyk13F2sISQ",
      "include_colab_link": true
    },
    "kernelspec": {
      "name": "python3",
      "display_name": "Python 3"
    },
    "language_info": {
      "name": "python"
    }
  },
  "cells": [
    {
      "cell_type": "markdown",
      "metadata": {
        "id": "view-in-github",
        "colab_type": "text"
      },
      "source": [
        "<a href=\"https://colab.research.google.com/github/Rohit6069/Python-New/blob/Module-2/Assignment_2_Module2.ipynb\" target=\"_parent\"><img src=\"https://colab.research.google.com/assets/colab-badge.svg\" alt=\"Open In Colab\"/></a>"
      ]
    },
    {
      "cell_type": "code",
      "execution_count": null,
      "metadata": {
        "colab": {
          "base_uri": "https://localhost:8080/"
        },
        "id": "ay-YMDRFYOux",
        "outputId": "3eadc15f-bfdd-4395-978f-3b8ea5f9beb1"
      },
      "outputs": [
        {
          "name": "stdout",
          "output_type": "stream",
          "text": [
            "enter n:5\n",
            "enter r:2\n"
          ]
        },
        {
          "output_type": "execute_result",
          "data": {
            "text/plain": [
              "10.0"
            ]
          },
          "metadata": {},
          "execution_count": 1
        }
      ],
      "source": [
        "#ncr using function\n",
        "def ncr(n,r):\n",
        "  return fact(n)/(fact(n-r)*fact(r))\n",
        "def fact(n):\n",
        " result=1\n",
        " for i in range(1,n+1):\n",
        "  result=result*i\n",
        " return result\n",
        "ncr (int(input(\"enter n:\")),int(input(\"enter r:\")))"
      ]
    },
    {
      "cell_type": "code",
      "source": [
        "#gcd\n",
        "def gcd(a, b):\n",
        "\tif(b == 0):\n",
        "\t\treturn a\n",
        "\telse:\n",
        "\t\treturn gcd(b, a % b)\n",
        "\n",
        "\n",
        "print(end=\"\")\n",
        "gcd(int(input(\"enter a:\")),int(input(\"enter b:\")))"
      ],
      "metadata": {
        "colab": {
          "base_uri": "https://localhost:8080/"
        },
        "id": "eugV7gTTYcWf",
        "outputId": "499deae5-2d42-45fc-fdba-b424a42848b8"
      },
      "execution_count": null,
      "outputs": [
        {
          "name": "stdout",
          "output_type": "stream",
          "text": [
            "enter a:12\n",
            "enter b:6\n"
          ]
        },
        {
          "output_type": "execute_result",
          "data": {
            "text/plain": [
              "6"
            ]
          },
          "metadata": {},
          "execution_count": 3
        }
      ]
    },
    {
      "cell_type": "code",
      "source": [
        "#product of 2 number uing recursion\n",
        "def product(a,b):\n",
        "    if(a<b):\n",
        "        return product(b,a)\n",
        "    elif(b!=0):\n",
        "        return(a+product(a,b-1))\n",
        "    else:\n",
        "        return 0\n",
        "a=int(input(\"Enter first number: \"))\n",
        "b=int(input(\"Enter second number: \"))\n",
        "print(\"Product is: \",product(a,b))"
      ],
      "metadata": {
        "id": "rWsBF7vtYyg8",
        "colab": {
          "base_uri": "https://localhost:8080/"
        },
        "outputId": "da94b15a-b4bd-4e32-a7e6-88f1054c7b10"
      },
      "execution_count": null,
      "outputs": [
        {
          "output_type": "stream",
          "name": "stdout",
          "text": [
            "Enter first number: 5\n",
            "Enter second number: 6\n",
            "Product is:  30\n"
          ]
        }
      ]
    },
    {
      "cell_type": "code",
      "source": [
        "# program to display the Fibonacci sequence using recursion\n",
        "\n",
        "\n",
        "def recur_fibo(n):\n",
        "   if n <= 1:\n",
        "       return n\n",
        "   else:\n",
        "       return(recur_fibo(n-1) + recur_fibo(n-2))\n",
        "nterms = 10\n",
        "if nterms <= 0:\n",
        "   print(\"Plese enter a positive integer\")\n",
        "else:\n",
        "   print(\"Fibonacci sequence:\")\n",
        "   for i in range(nterms):\n",
        "       print(recur_fibo(i))\n"
      ],
      "metadata": {
        "colab": {
          "base_uri": "https://localhost:8080/"
        },
        "id": "GCEvxRicd5Ld",
        "outputId": "8fd913ba-dca8-4acf-efbf-b7b6838709d1"
      },
      "execution_count": null,
      "outputs": [
        {
          "output_type": "stream",
          "name": "stdout",
          "text": [
            "Fibonacci sequence:\n",
            "0\n",
            "1\n",
            "1\n",
            "2\n",
            "3\n",
            "5\n",
            "8\n",
            "13\n",
            "21\n",
            "34\n"
          ]
        }
      ]
    },
    {
      "cell_type": "code",
      "source": [
        "# Python code t get difference of two lists using functions\n",
        "\n",
        "def Diff(l1, l2):\n",
        "\treturn list(set(l1) - set(l2)) + list(set(l2) - set(l1))\n",
        "\n",
        "\n",
        "l1 = [90, 56, 87, 43, 22, 9, 23]\n",
        "l2 = [25, 40, 35]\n",
        "print(Diff(l1, l2))\n",
        "\n",
        "\n"
      ],
      "metadata": {
        "colab": {
          "base_uri": "https://localhost:8080/"
        },
        "id": "Mtdwf8sceIxg",
        "outputId": "bb95f389-764b-4e48-93e5-6220160cb033"
      },
      "execution_count": null,
      "outputs": [
        {
          "output_type": "stream",
          "name": "stdout",
          "text": [
            "[9, 43, 23, 22, 87, 56, 90, 40, 25, 35]\n"
          ]
        }
      ]
    },
    {
      "cell_type": "code",
      "source": [
        "# Python program to find second largest\n",
        "list1 = [10, 20, 4, 45, 99]\n",
        "mx=max(list1[0],list1[1])\n",
        "secondmax=min(list1[0],list1[1])\n",
        "n =len(list1)\n",
        "for i in range(2,n):\n",
        "\tif list1[i]>mx:\n",
        "\t\tsecondmax=mx\n",
        "\t\tmx=list1[i]\n",
        "\telif list1[i]>secondmax and \\\n",
        "\t\tmx != list1[i]:\n",
        "\t\tsecondmax=list1[i]\n",
        "\n",
        "print(\"Second highest number is : \",\\\n",
        "\tstr(secondmax))\n",
        "\n",
        "#second smallest number in the list\n",
        "def find_len(list1):\n",
        "   length = len(list1)\n",
        "   list1.sort()\n",
        "   list1=[12, 45, 2, 41, 31, 10, 8, 6, 4]\n",
        "   print(\"Second Smallest element is:\", list1[1])\n",
        "   second_smallest = find_len(list1)\n",
        "  "
      ],
      "metadata": {
        "id": "e5wXtkJVgmmR"
      },
      "execution_count": null,
      "outputs": []
    },
    {
      "cell_type": "code",
      "source": [
        "#Given a list of numbers of list, write a Python program to create a list of tuple having first element as the number and second element as the square of the number\n",
        "\n",
        "\n",
        "def squareoflist(li):\n",
        "    \n",
        "    result=[(num, num**2) for num in li]\n",
        "    return result\n",
        "\n",
        "\n",
        "li = [3, 4, 1, 2]\n",
        "\n",
        "\n",
        "print(squareoflist(li))"
      ],
      "metadata": {
        "colab": {
          "base_uri": "https://localhost:8080/"
        },
        "id": "xHjmhI0viRNW",
        "outputId": "b4a65078-1f41-4397-fc2e-0ecfd1b36f68"
      },
      "execution_count": null,
      "outputs": [
        {
          "output_type": "stream",
          "name": "stdout",
          "text": [
            "[(3, 9), (4, 16), (1, 1), (2, 4)]\n"
          ]
        }
      ]
    },
    {
      "cell_type": "code",
      "source": [
        "#Given list of tuples, remove all the tuples with length K. \n",
        "\n",
        "given_list = [(4, 5), (4, ), (8, 6, 7), (1, ), (3, 4, 6, 7)]\n",
        "\n",
        "\n",
        "print(\"The original list : \" + str(given_list))\n",
        "\n",
        "K = 1\n",
        "\n",
        "\n",
        "res = [ele for ele in given_list if len(ele) != K]\n",
        "\n",
        "print(\"Filtered list : \" + str(res))\n"
      ],
      "metadata": {
        "colab": {
          "base_uri": "https://localhost:8080/"
        },
        "id": "5gltZHc0iiGk",
        "outputId": "a0cb68c1-3c21-43b6-cb82-5c293b4dacbd"
      },
      "execution_count": null,
      "outputs": [
        {
          "output_type": "stream",
          "name": "stdout",
          "text": [
            "The original list : [(4, 5), (4,), (8, 6, 7), (1,), (3, 4, 6, 7)]\n",
            "Filtered list : [(4, 5), (8, 6, 7), (3, 4, 6, 7)]\n"
          ]
        }
      ]
    },
    {
      "cell_type": "code",
      "source": [
        "#Program to generate and print a dictionary that contains a number (between 1and n) in the form (x, x*x).\n",
        "\n",
        "n=int(input(\"Input a number \"))\n",
        "d = dict()\n",
        "\n",
        "for x in range(1,n+1):\n",
        "    d[x]=x*x\n",
        "\n",
        "print(d) \n"
      ],
      "metadata": {
        "colab": {
          "base_uri": "https://localhost:8080/"
        },
        "id": "-nNLjUg1jmEj",
        "outputId": "7cc6f64d-5cb8-4fb7-8fab-2779b91a93b2"
      },
      "execution_count": null,
      "outputs": [
        {
          "output_type": "stream",
          "name": "stdout",
          "text": [
            "Input a number 5\n",
            "{1: 1, 2: 4, 3: 9, 4: 16, 5: 25}\n"
          ]
        }
      ]
    },
    {
      "cell_type": "code",
      "source": [
        "#Program to remove a key from a dictionary\n",
        "\n",
        "\n",
        "test_dict = {\"Raghu\" : 22, \"radha\" : 21, \"ani\" : 21, \"ritha\" : 21}\n",
        "\n",
        "print (\"The dictionary before performing remove is : \" + str(test_dict))\n",
        "\n",
        "del test_dict['ani']\n",
        "\n",
        "print (\"The dictionary after remove is : \" + str(test_dict))\n",
        "\n"
      ],
      "metadata": {
        "colab": {
          "base_uri": "https://localhost:8080/"
        },
        "id": "zCPFt_7ukK6y",
        "outputId": "d5938084-d809-4827-e023-ddfd4ed0c695"
      },
      "execution_count": null,
      "outputs": [
        {
          "output_type": "stream",
          "name": "stdout",
          "text": [
            "The dictionary before performing remove is : {'Raghu': 22, 'radha': 21, 'ani': 21, 'ritha': 21}\n",
            "The dictionary after remove is : {'Raghu': 22, 'radha': 21, 'ritha': 21}\n"
          ]
        }
      ]
    },
    {
      "cell_type": "code",
      "source": [
        "#Program to get the maximum and minimum value in a dictionary\n",
        "my_dict = {'x':5011, 'y':574, 'z': 5760}\n",
        "my_dict_keys\n",
        "print(max(my_dict))\n",
        "print(min(my_dict))\n"
      ],
      "metadata": {
        "id": "1JWhdY5AlOvY",
        "colab": {
          "base_uri": "https://localhost:8080/"
        },
        "outputId": "6d4882e6-e4a1-40a4-be68-8a77fbd3420f"
      },
      "execution_count": null,
      "outputs": [
        {
          "output_type": "stream",
          "name": "stdout",
          "text": [
            "z\n",
            "x\n"
          ]
        }
      ]
    },
    {
      "cell_type": "code",
      "source": [
        "# Python program to count occurrences\n",
        "count = 0\n",
        "\n",
        "my_string = \"Hi i am rohit with a range rover\"\n",
        "my_char = \"r\"\n",
        "\n",
        "for i in my_string:\n",
        "    if i == my_char:\n",
        "        count=count+1\n",
        "\n",
        "print(count)\n",
        "\n"
      ],
      "metadata": {
        "colab": {
          "base_uri": "https://localhost:8080/"
        },
        "id": "z5HgtQYXsflO",
        "outputId": "ab15e050-7fa1-4789-b96e-cd484838bdbc"
      },
      "execution_count": null,
      "outputs": [
        {
          "output_type": "stream",
          "name": "stdout",
          "text": [
            "4\n"
          ]
        }
      ]
    },
    {
      "cell_type": "code",
      "source": [
        "#Program for replacing one substring by another\n",
        "s=input(\"enter string\")\n",
        "substr=input(\"enter string to be replaced \")\n",
        "newstr=input(\"enter the new string that has to replaced\")\n",
        "c=s.count(substr)\n",
        "print(\"the frequency of the substreing is \",c)\n",
        "r=s.replace(substr,newstr)\n",
        "print(\"the string after replacing is:\",r)"
      ],
      "metadata": {
        "colab": {
          "base_uri": "https://localhost:8080/"
        },
        "id": "lD4SjGEBJrHC",
        "outputId": "220fb1ec-ed98-489d-e581-fc9fd89581a5"
      },
      "execution_count": null,
      "outputs": [
        {
          "output_type": "stream",
          "name": "stdout",
          "text": [
            "enter stringhi prasanth\n",
            "enter string to be replaced prasanth\n",
            "enter the new string that has to replacedrohit\n",
            "the frequency of the substreing is  1\n",
            "the string after replacing is: hi rohit\n"
          ]
        }
      ]
    },
    {
      "cell_type": "code",
      "source": [
        "#Python function that accepts a string and calculates the number of uppercase letters and lowercase letters.\n",
        "def string_test(s):\n",
        "    d={\"UPPER_CASE\":0, \"LOWER_CASE\":0}\n",
        "    for c in s:\n",
        "        if c.isupper():\n",
        "           d[\"UPPER_CASE\"]+=1\n",
        "        elif c.islower():\n",
        "           d[\"LOWER_CASE\"]+=1\n",
        "        else:\n",
        "           pass\n",
        "    print (\"Original String : \", s)\n",
        "    print (\"No. of Upper case characters : \", d[\"UPPER_CASE\"])\n",
        "    print (\"No. of Lower case Characters : \", d[\"LOWER_CASE\"])\n",
        "\n",
        "string_test('The quick Brown Fox')"
      ],
      "metadata": {
        "colab": {
          "base_uri": "https://localhost:8080/"
        },
        "id": "R-h9kCRtPApK",
        "outputId": "1be24a99-e7b5-4018-fbc3-6bb1fb9cb176"
      },
      "execution_count": null,
      "outputs": [
        {
          "output_type": "stream",
          "name": "stdout",
          "text": [
            "Original String :  The quick Brown Fox\n",
            "No. of Upper case characters :  3\n",
            "No. of Lower case Characters :  13\n"
          ]
        }
      ]
    },
    {
      "cell_type": "code",
      "source": [
        "#Program to count the number of strings where the string length is 2 or more and the first and last character are same from a given list of string\n",
        "def match_words(words):\n",
        "  ctr = 0\n",
        "\n",
        "  for word in words:\n",
        "    if len(word) > 1 and word[0] == word[-1]:\n",
        "      ctr += 1\n",
        "  return ctr\n",
        "\n",
        "print(match_words(['abc', 'xyz', 'aba', '1221'])) "
      ],
      "metadata": {
        "colab": {
          "base_uri": "https://localhost:8080/"
        },
        "id": "Oj4-a1pNPYkd",
        "outputId": "6de9ecfc-f235-4cc0-d6b2-dd0b6e890dc7"
      },
      "execution_count": null,
      "outputs": [
        {
          "output_type": "stream",
          "name": "stdout",
          "text": [
            "2\n"
          ]
        }
      ]
    }
  ]
}